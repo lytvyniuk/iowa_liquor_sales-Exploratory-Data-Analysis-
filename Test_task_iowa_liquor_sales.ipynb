{
  "nbformat": 4,
  "nbformat_minor": 0,
  "metadata": {
    "colab": {
      "name": "Test task iowa_liquor_sales.ipynb",
      "provenance": [],
      "authorship_tag": "ABX9TyM2WDpVSibDSiCRQiPFhEc/",
      "include_colab_link": true
    },
    "kernelspec": {
      "name": "python3",
      "display_name": "Python 3"
    }
  },
  "cells": [
    {
      "cell_type": "markdown",
      "metadata": {
        "id": "view-in-github",
        "colab_type": "text"
      },
      "source": [
        "<a href=\"https://colab.research.google.com/github/lytvyniuk/iowa_liquor_sales-Exploratory-Data-Analysis-/blob/master/Test_task_iowa_liquor_sales.ipynb\" target=\"_parent\"><img src=\"https://colab.research.google.com/assets/colab-badge.svg\" alt=\"Open In Colab\"/></a>"
      ]
    },
    {
      "cell_type": "code",
      "metadata": {
        "id": "sj8IAreTE909",
        "colab_type": "code",
        "colab": {}
      },
      "source": [
        "# please run this cell and follow the link to authenticate\n",
        "from google.colab import auth\n",
        "auth.authenticate_user()\n",
        "print('Authenticated')"
      ],
      "execution_count": 0,
      "outputs": []
    },
    {
      "cell_type": "code",
      "metadata": {
        "id": "6JRTsEzZFMhJ",
        "colab_type": "code",
        "colab": {}
      },
      "source": [
        "%matplotlib inline\n",
        "import matplotlib.pyplot as plt\n",
        "import seaborn as sns\n",
        "import pandas as pd\n",
        "import numpy as np"
      ],
      "execution_count": 0,
      "outputs": []
    },
    {
      "cell_type": "markdown",
      "metadata": {
        "id": "79lQ0hHCAg1X",
        "colab_type": "text"
      },
      "source": [
        "The dataset analysis can be useful to find out the best time to sell items, the most profitable vendors, the most popular drinks etc. This information eventually can help to understand businesses how to act to gain more revenue.\n",
        "\n",
        "I start with general analysis of the data and go in details if I find an interesting observation."
      ]
    },
    {
      "cell_type": "markdown",
      "metadata": {
        "id": "KLSmdHasxAOp",
        "colab_type": "text"
      },
      "source": [
        "**Data cleaning**\n",
        "\n",
        "In the beginning, there were not any issues visible in the dataset to fix. During the analysis, when I found some issues so I made some corrections on the go. (Example of incorrect data -  codes for the same vendor , one is 65, second is 065). Ideally, they should be fixed first, maybe on table level in BigQuery also."
      ]
    },
    {
      "cell_type": "markdown",
      "metadata": {
        "id": "qFJ3GhpBG-rc",
        "colab_type": "text"
      },
      "source": [
        "**Top 10 stores with the most bottles sold**"
      ]
    },
    {
      "cell_type": "markdown",
      "metadata": {
        "id": "0L-z04j3AkNV",
        "colab_type": "text"
      },
      "source": [
        "Let's find out what vendors are the biggest on the market in terms of sold bottles. There are a lot of them, so I showed top 10 on the plot for better visualisation."
      ]
    },
    {
      "cell_type": "code",
      "metadata": {
        "id": "SW5ZVddrGw2I",
        "colab_type": "code",
        "colab": {}
      },
      "source": [
        "# select aggregated data on bottles_sold and vendors\n",
        "%%bigquery --project protean-genius-271221 df\n",
        "SELECT vendor_number, sum(bottles_sold)  as bottles_sold FROM `bigquery-public-data.iowa_liquor_sales.sales`  group by vendor_number order by bottles_sold desc limit 10"
      ],
      "execution_count": 0,
      "outputs": []
    },
    {
      "cell_type": "code",
      "metadata": {
        "id": "Anp5jOelFagf",
        "colab_type": "code",
        "colab": {}
      },
      "source": [
        "# select unique names of the stores , because some stores have same name code but slight difference in names (uppercase and lowercase etc), so it is needed to group correctly\n",
        "%%bigquery --project protean-genius-271221 df_names\n",
        "SELECT distinct vendor_number, vendor_name FROM `bigquery-public-data.iowa_liquor_sales.sales` "
      ],
      "execution_count": 0,
      "outputs": []
    },
    {
      "cell_type": "code",
      "metadata": {
        "id": "qfvla90UFiD_",
        "colab_type": "code",
        "colab": {}
      },
      "source": [
        "# merging with names\n",
        "df = pd.merge(df, df_names, on = \"vendor_number\", how='left').drop_duplicates(subset='vendor_number', keep=\"first\")\n",
        "df\n"
      ],
      "execution_count": 0,
      "outputs": []
    },
    {
      "cell_type": "code",
      "metadata": {
        "id": "QaUUaMdWFnDF",
        "colab_type": "code",
        "colab": {}
      },
      "source": [
        "sns.barplot(x = 'vendor_name', y = 'bottles_sold',  data = df, color=\"green\")\n",
        "plt.xticks(rotation=50, horizontalalignment='right')\n",
        "plt.xlabel(\"Vendor name\")\n",
        "plt.ylabel(\"Bottles sold\")\n",
        "plt.title(\"Top 10 biggest vendors\")\n",
        "plt.show()"
      ],
      "execution_count": 0,
      "outputs": []
    },
    {
      "cell_type": "markdown",
      "metadata": {
        "id": "ajC7ldaimLWv",
        "colab_type": "text"
      },
      "source": [
        "**What is the most popular category of liquors in terms of bottles sold?**"
      ]
    },
    {
      "cell_type": "code",
      "metadata": {
        "id": "Ha_z58i3OXyK",
        "colab_type": "code",
        "colab": {}
      },
      "source": [
        "%%bigquery --project protean-genius-271221 df\n",
        "SELECT category,category_name, sum(bottles_sold) as bottles_sold FROM `bigquery-public-data.iowa_liquor_sales.sales`group by category,category_name order by bottles_sold desc limit 10"
      ],
      "execution_count": 0,
      "outputs": []
    },
    {
      "cell_type": "code",
      "metadata": {
        "id": "G47iOCjamx19",
        "colab_type": "code",
        "colab": {}
      },
      "source": [
        "df"
      ],
      "execution_count": 0,
      "outputs": []
    },
    {
      "cell_type": "markdown",
      "metadata": {
        "id": "_NcZj-F5m-c4",
        "colab_type": "text"
      },
      "source": [
        "One category has same name (with different case) but different category code, which is strange. I leave it as it is, but if one of codes is wrong , 'Spiced Rum' would have a higher position."
      ]
    },
    {
      "cell_type": "code",
      "metadata": {
        "id": "GEFlkyA8mruF",
        "colab_type": "code",
        "colab": {}
      },
      "source": [
        "sns.barplot(x = 'category_name', y = 'bottles_sold',  data = df, color=\"lightblue\")\n",
        "plt.xticks(rotation=50, horizontalalignment='right')\n",
        "plt.xlabel(\"Vendor name\")\n",
        "plt.ylabel(\"Bottles sold\")\n",
        "plt.title(\"Top 10 most popuar categories of liquors \")\n",
        "plt.show()"
      ],
      "execution_count": 0,
      "outputs": []
    },
    {
      "cell_type": "markdown",
      "metadata": {
        "id": "MYuEvKQhnRsq",
        "colab_type": "text"
      },
      "source": [
        "Vodka is the most popular one, American vodkas category in particular."
      ]
    },
    {
      "cell_type": "markdown",
      "metadata": {
        "id": "2je1REj2Oo_L",
        "colab_type": "text"
      },
      "source": [
        "\n",
        "\n",
        "\n",
        " **Let's see how many drinks are sold in different days, monthes, years for all vendors.**"
      ]
    },
    {
      "cell_type": "code",
      "metadata": {
        "id": "m5zDhgR1OYIG",
        "colab_type": "code",
        "colab": {}
      },
      "source": [
        "%%bigquery --project protean-genius-271221 df_dates\n",
        "SELECT sum(bottles_sold) as bottles_sold, FORMAT_DATE('%a',date) AS weekday FROM `bigquery-public-data.iowa_liquor_sales.sales` group by weekday"
      ],
      "execution_count": 0,
      "outputs": []
    },
    {
      "cell_type": "code",
      "metadata": {
        "id": "xiJZ8G3MMI-8",
        "colab_type": "code",
        "colab": {}
      },
      "source": [
        "df_dates.dtypes"
      ],
      "execution_count": 0,
      "outputs": []
    },
    {
      "cell_type": "code",
      "metadata": {
        "id": "q-WY6-HYOdD3",
        "colab_type": "code",
        "colab": {}
      },
      "source": [
        "\n"
      ],
      "execution_count": 0,
      "outputs": []
    },
    {
      "cell_type": "code",
      "metadata": {
        "id": "64MDhIpROgOx",
        "colab_type": "code",
        "colab": {}
      },
      "source": [
        "order = [\"Mon\", \"Tue\", \"Wed\", \"Thu\", \"Fri\", \"Sat\", 'Sun']\n",
        "sns.barplot(x = 'weekday', y = 'bottles_sold',  data = df_dates, color=\"blue\", order = order)\n",
        "plt.xlabel('Day of the week')\n",
        "plt.ylabel('Bottles sold')\n",
        "plt.title(\"Number of bottles sold by day of the week\")\n",
        "plt.show()\n",
        "\n"
      ],
      "execution_count": 0,
      "outputs": []
    },
    {
      "cell_type": "markdown",
      "metadata": {
        "id": "E-W_h-GgJRf_",
        "colab_type": "text"
      },
      "source": [
        "Interesting observation that liquors almost were not sold on weekends, which is most likely caused by law restrictions. However, there is small amount of sales on Saturday. Amount of bottles on Mon - Thu is almost on the same level but it is suprisingly higher comparing to sales on Friday."
      ]
    },
    {
      "cell_type": "code",
      "metadata": {
        "id": "80GbrnwHMG9e",
        "colab_type": "code",
        "colab": {}
      },
      "source": [
        "# let's see something from Saturday data, where sales are much lower\n",
        "%%bigquery --project protean-genius-271221 df\n",
        "select * from (SELECT vendor_number, sum(bottles_sold) as bottles_sold, FORMAT_DATE('%a',date) AS weekday FROM `bigquery-public-data.iowa_liquor_sales.sales`group by vendor_number, weekday) where weekday = 'Sat' order by bottles_sold desc limit 10"
      ],
      "execution_count": 0,
      "outputs": []
    },
    {
      "cell_type": "code",
      "metadata": {
        "id": "i3BhZSIphUKC",
        "colab_type": "code",
        "colab": {}
      },
      "source": [
        "# merging with names\n",
        "df = pd.merge(df, df_names, on = \"vendor_number\", how='left').drop_duplicates(subset='vendor_number', keep=\"first\")\n",
        "df"
      ],
      "execution_count": 0,
      "outputs": []
    },
    {
      "cell_type": "code",
      "metadata": {
        "id": "FF-OEz72iEkX",
        "colab_type": "code",
        "colab": {}
      },
      "source": [
        "sns.barplot(x = 'vendor_name', y = 'bottles_sold',  data = df, color=\"green\")\n",
        "plt.xticks(rotation=50, horizontalalignment='right')\n",
        "plt.xlabel(\"Vendor name\")\n",
        "plt.ylabel(\"Bottles sold\")\n",
        "plt.title(\"Top biggest vendors on Saturday\")\n",
        "plt.show()"
      ],
      "execution_count": 0,
      "outputs": []
    },
    {
      "cell_type": "markdown",
      "metadata": {
        "id": "dbZtA7RpjFJc",
        "colab_type": "text"
      },
      "source": [
        "Results are same as from whole dataset as expected.\n",
        "\n",
        "Also we can find out the most popular drink type."
      ]
    },
    {
      "cell_type": "code",
      "metadata": {
        "id": "_SG7KqbUjX6J",
        "colab_type": "code",
        "colab": {}
      },
      "source": [
        "# find out most popular types of liquor Saturday data\n",
        "%%bigquery --project protean-genius-271221 df\n",
        "select * from (SELECT category,category_name, sum(bottles_sold) as bottles_sold, FORMAT_DATE('%a',date) AS weekday FROM `bigquery-public-data.iowa_liquor_sales.sales`group by category,category_name, weekday) where weekday = 'Sat' order by bottles_sold desc limit 10"
      ],
      "execution_count": 0,
      "outputs": []
    },
    {
      "cell_type": "code",
      "metadata": {
        "id": "oY-0z-ERj6Ui",
        "colab_type": "code",
        "colab": {}
      },
      "source": [
        "df"
      ],
      "execution_count": 0,
      "outputs": []
    },
    {
      "cell_type": "code",
      "metadata": {
        "id": "9O9tD9ockLsd",
        "colab_type": "code",
        "colab": {}
      },
      "source": [
        "sns.barplot(x = 'category_name', y = 'bottles_sold',  data = df, color=\"lightblue\")\n",
        "plt.xticks(rotation=50, horizontalalignment='right')\n",
        "plt.xlabel(\"Vendor name\")\n",
        "plt.ylabel(\"Bottles sold\")\n",
        "plt.title(\"Top 10 most popuar categories of liquors on Saturday\")\n",
        "plt.show()"
      ],
      "execution_count": 0,
      "outputs": []
    },
    {
      "cell_type": "markdown",
      "metadata": {
        "id": "MraCmH0sneI6",
        "colab_type": "text"
      },
      "source": [
        "Also more or less same result, but different category name is on top."
      ]
    },
    {
      "cell_type": "code",
      "metadata": {
        "id": "FknRFlXsMzJO",
        "colab_type": "code",
        "colab": {}
      },
      "source": [
        "# group by month\n",
        "%%bigquery --project protean-genius-271221 df_dates\n",
        "SELECT sum(bottles_sold) as bottles_sold, FORMAT_DATE('%m',date) AS month FROM `bigquery-public-data.iowa_liquor_sales.sales` group by month order by month"
      ],
      "execution_count": 0,
      "outputs": []
    },
    {
      "cell_type": "code",
      "metadata": {
        "id": "K1-Lu_h9M7jy",
        "colab_type": "code",
        "colab": {}
      },
      "source": [
        "df_dates"
      ],
      "execution_count": 0,
      "outputs": []
    },
    {
      "cell_type": "code",
      "metadata": {
        "id": "xDLnAXsMO1Mu",
        "colab_type": "code",
        "colab": {}
      },
      "source": [
        "sns.barplot(x = 'month', y = 'bottles_sold',  data = df_dates, color=\"blue\")\n",
        "plt.xlabel('Month')\n",
        "plt.ylabel('Bottles sold')\n",
        "plt.title(\"Number of bottles sold by month\")\n",
        "plt.show()"
      ],
      "execution_count": 0,
      "outputs": []
    },
    {
      "cell_type": "markdown",
      "metadata": {
        "id": "soDVcxKqZGIJ",
        "colab_type": "text"
      },
      "source": [
        "The data shows that the busiest sales happen on October and December, which is surely related to upcoming holidays in these months (at least in December). Other months level of sales is lower without any significant differences."
      ]
    },
    {
      "cell_type": "code",
      "metadata": {
        "id": "b-vm_qgsSasx",
        "colab_type": "code",
        "colab": {}
      },
      "source": [
        "# group by year\n",
        "%%bigquery --project protean-genius-271221 df_dates\n",
        "SELECT sum(bottles_sold) as bottles_sold, FORMAT_DATE('%Y',date) AS year FROM `bigquery-public-data.iowa_liquor_sales.sales` group by year order by year"
      ],
      "execution_count": 0,
      "outputs": []
    },
    {
      "cell_type": "code",
      "metadata": {
        "id": "Ndu2vbGzSelk",
        "colab_type": "code",
        "colab": {}
      },
      "source": [
        "df_dates"
      ],
      "execution_count": 0,
      "outputs": []
    },
    {
      "cell_type": "code",
      "metadata": {
        "id": "4i9n8O3wO3YR",
        "colab_type": "code",
        "colab": {}
      },
      "source": [
        "sns.lineplot(x = 'year', y = 'bottles_sold',  data = df_dates, color=\"blue\")\n",
        "plt.xlabel('Year')\n",
        "plt.ylabel('Bottles sold')\n",
        "plt.title(\"Number of bottles sold by year\")\n",
        "plt.show()"
      ],
      "execution_count": 0,
      "outputs": []
    },
    {
      "cell_type": "markdown",
      "metadata": {
        "id": "_dz93NUtVlIy",
        "colab_type": "text"
      },
      "source": [
        "Sales are increasing every year ( for 2020 there is no full data yet)."
      ]
    },
    {
      "cell_type": "markdown",
      "metadata": {
        "id": "C2DUaPXFpKnU",
        "colab_type": "text"
      },
      "source": [
        "**Biggest vendors in terms of income**"
      ]
    },
    {
      "cell_type": "code",
      "metadata": {
        "id": "djSIm6VHtQr8",
        "colab_type": "code",
        "colab": {}
      },
      "source": [
        "# select aggregated data on sale_dollars and vendors\n",
        "# found same vendors with wrongly inserted codes. removing extra '0' in front of the number, so that codes are consistent\n",
        "%%bigquery --project protean-genius-271221 df\n",
        "SELECT replace(ltrim(replace(vendor_number,'0',' ')),' ','0') as vendor_number, sum(sale_dollars) as total_dollars FROM `bigquery-public-data.iowa_liquor_sales.sales`  group by vendor_number order by total_dollars desc limit 10"
      ],
      "execution_count": 0,
      "outputs": []
    },
    {
      "cell_type": "code",
      "metadata": {
        "id": "ijGSED2DtyRf",
        "colab_type": "code",
        "colab": {}
      },
      "source": [
        "# merging with names\n",
        "df = pd.merge(df, df_names, on = \"vendor_number\", how='left').drop_duplicates(subset='vendor_number', keep=\"first\")\n",
        "df"
      ],
      "execution_count": 0,
      "outputs": []
    },
    {
      "cell_type": "markdown",
      "metadata": {
        "id": "ASRWdsgMuHKn",
        "colab_type": "text"
      },
      "source": [
        "DIAGEO AMERICAS is on the first place by income and by bottles sold, other vendors positions differ by these attributes (income and by bottles sold)."
      ]
    },
    {
      "cell_type": "code",
      "metadata": {
        "id": "jXN4QkvyrUQh",
        "colab_type": "code",
        "colab": {}
      },
      "source": [
        "top_vendors_by_doll = list(df['vendor_name'])\n",
        "top_vendors_by_doll = list(map(str.upper,top_vendors_by_doll)) # easier way to make vendor names consistent is to make them all writtem in Uppercase or Lowercase assuming they don't have other issues\n",
        "top_vendors_by_doll"
      ],
      "execution_count": 0,
      "outputs": []
    },
    {
      "cell_type": "code",
      "metadata": {
        "id": "TTyMc0S_pJbK",
        "colab_type": "code",
        "colab": {}
      },
      "source": [
        "# select aggregated data on sale_dollars and vendors .(easier way to make vendor names consistent is to make them all writtem in Uppercase or Lowercase assuming they don't have other issues)\n",
        "%%bigquery --project protean-genius-271221 df\n",
        "SELECT vendor_number, UPPER(vendor_name) as vendor_name, sum(sale_dollars) as total_dollars , FORMAT_DATE('%Y',date) AS year FROM `bigquery-public-data.iowa_liquor_sales.sales`  group by vendor_number,vendor_name, year order by total_dollars desc"
      ],
      "execution_count": 0,
      "outputs": []
    },
    {
      "cell_type": "code",
      "metadata": {
        "id": "J-r69THE_2qT",
        "colab_type": "code",
        "colab": {}
      },
      "source": [
        "df"
      ],
      "execution_count": 0,
      "outputs": []
    },
    {
      "cell_type": "code",
      "metadata": {
        "id": "olaTuyRrzTnw",
        "colab_type": "code",
        "colab": {}
      },
      "source": [
        "df_vendors = df[df['vendor_name'].isin(top_vendors_by_doll)]\n",
        "df_vendors = df_vendors[df_vendors['year'] != '2020'] # removing current year because it is not complete\n"
      ],
      "execution_count": 0,
      "outputs": []
    },
    {
      "cell_type": "code",
      "metadata": {
        "id": "UNrMQd3f8A4C",
        "colab_type": "code",
        "colab": {}
      },
      "source": [
        "df_vendors"
      ],
      "execution_count": 0,
      "outputs": []
    },
    {
      "cell_type": "code",
      "metadata": {
        "id": "H5l1I-vT7SRe",
        "colab_type": "code",
        "colab": {}
      },
      "source": [
        "g = sns.FacetGrid(df_vendors, col=\"vendor_name\",col_wrap=5, aspect = 1.5)\n",
        "g = g.map(sns.lineplot, 'year', 'total_dollars')\n",
        "g.set_titles(\"{col_name} \")\n",
        "g.set_xticklabels( rotation=30)"
      ],
      "execution_count": 0,
      "outputs": []
    },
    {
      "cell_type": "markdown",
      "metadata": {
        "id": "GSRkp9w8GbW3",
        "colab_type": "text"
      },
      "source": [
        "From the plots above, it can be observed that some vendors like JIM BEAM BRANDS, BACARDI U.S.A., INC., CONSTELLATION WINE COMPANY, INC., SAZERAC NORTH AMERICA have a decrease in their revenue in year 2016. This might be caused by some external reason in the country (how the elections in 2016 can be related or smth else?). In general, trends do not vary much for majority of vendors, for DIAGEO AMERICAS sales are significally increasing from year 2012.\n",
        "\n",
        "\n",
        "Seems that for some companies data is missing from years 2015, 2016, that can cause wrong interpretation of results , so further analysis is needed according to the same daterange. Also, it can be due to name change of the vendor (or corrupted data) so missing years data belongs to new vendor name and is not displayed here. There can be other reasons as well, because I analysed small part of the vendors.\n"
      ]
    }
  ]
}