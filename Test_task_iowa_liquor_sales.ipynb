{
  "nbformat": 4,
  "nbformat_minor": 0,
  "metadata": {
    "colab": {
      "name": "Test task iowa_liquor_sales.ipynb",
      "provenance": [],
      "authorship_tag": "ABX9TyNlNUKvMh9I83IupCnFN0q6",
      "include_colab_link": true
    },
    "kernelspec": {
      "name": "python3",
      "display_name": "Python 3"
    }
  },
  "cells": [
    {
      "cell_type": "markdown",
      "metadata": {
        "id": "view-in-github",
        "colab_type": "text"
      },
      "source": [
        "<a href=\"https://colab.research.google.com/github/lytvyniuk/iowa_liquor_sales-Exploratory-Data-Analysis-/blob/master/Test_task_iowa_liquor_sales.ipynb\" target=\"_parent\"><img src=\"https://colab.research.google.com/assets/colab-badge.svg\" alt=\"Open In Colab\"/></a>"
      ]
    },
    {
      "cell_type": "code",
      "metadata": {
        "id": "sj8IAreTE909",
        "colab_type": "code",
        "colab": {}
      },
      "source": [
        "from google.colab import auth\n",
        "auth.authenticate_user()\n",
        "print('Authenticated')"
      ],
      "execution_count": 0,
      "outputs": []
    },
    {
      "cell_type": "code",
      "metadata": {
        "id": "6JRTsEzZFMhJ",
        "colab_type": "code",
        "colab": {}
      },
      "source": [
        "%matplotlib inline\n",
        "import matplotlib.pyplot as plt\n",
        "import seaborn as sns\n",
        "import pandas as pd\n",
        "import numpy as np"
      ],
      "execution_count": 0,
      "outputs": []
    },
    {
      "cell_type": "markdown",
      "metadata": {
        "id": "ZviyD58VFZuq",
        "colab_type": "text"
      },
      "source": [
        "**Initial Data Cleaning**"
      ]
    },
    {
      "cell_type": "code",
      "metadata": {
        "id": "mfozrgvSFaU-",
        "colab_type": "code",
        "colab": {}
      },
      "source": [
        ""
      ],
      "execution_count": 0,
      "outputs": []
    },
    {
      "cell_type": "markdown",
      "metadata": {
        "id": "qFJ3GhpBG-rc",
        "colab_type": "text"
      },
      "source": [
        "**Top 10 stores with the most bottles sold**"
      ]
    },
    {
      "cell_type": "code",
      "metadata": {
        "id": "SW5ZVddrGw2I",
        "colab_type": "code",
        "colab": {}
      },
      "source": [
        "# select aggregated data on bottles_sold and vendors\n",
        "%%bigquery --project protean-genius-271221 df\n",
        "SELECT vendor_number, sum(bottles_sold)  as bottles_sold FROM `bigquery-public-data.iowa_liquor_sales.sales`  group by vendor_number order by bottles_sold desc limit 10"
      ],
      "execution_count": 0,
      "outputs": []
    },
    {
      "cell_type": "code",
      "metadata": {
        "id": "Anp5jOelFagf",
        "colab_type": "code",
        "colab": {}
      },
      "source": [
        "# select unique names of the stores , because some stores have same name code but slight difference in names (uppercase and lowercase etc), so it is needed to group correctly\n",
        "%%bigquery --project protean-genius-271221 df_names\n",
        "SELECT distinct vendor_number, vendor_name FROM `bigquery-public-data.iowa_liquor_sales.sales` "
      ],
      "execution_count": 0,
      "outputs": []
    },
    {
      "cell_type": "code",
      "metadata": {
        "id": "qfvla90UFiD_",
        "colab_type": "code",
        "colab": {}
      },
      "source": [
        "# merging with names\n",
        "df = pd.merge(df, df_names, on = \"vendor_number\", how='left').drop_duplicates(subset='vendor_number', keep=\"first\")\n",
        "df\n"
      ],
      "execution_count": 0,
      "outputs": []
    },
    {
      "cell_type": "code",
      "metadata": {
        "id": "QaUUaMdWFnDF",
        "colab_type": "code",
        "colab": {}
      },
      "source": [
        "sns.barplot(x = 'vendor_name', y = 'bottles_sold',  data = df, color=\"green\")\n",
        "plt.xticks(rotation=50, horizontalalignment='right')\n",
        "plt.xlabel(\"Vendor name\")\n",
        "plt.ylabel(\"Bottles sold\")\n",
        "plt.title(\"Top 10 biggest vendors\")\n",
        "plt.show()"
      ],
      "execution_count": 0,
      "outputs": []
    },
    {
      "cell_type": "code",
      "metadata": {
        "id": "Ha_z58i3OXyK",
        "colab_type": "code",
        "colab": {}
      },
      "source": [
        ""
      ],
      "execution_count": 0,
      "outputs": []
    },
    {
      "cell_type": "markdown",
      "metadata": {
        "id": "2je1REj2Oo_L",
        "colab_type": "text"
      },
      "source": [
        "Let's see how many drinks are sold in different days, monthes, years for all vendors."
      ]
    },
    {
      "cell_type": "code",
      "metadata": {
        "id": "m5zDhgR1OYIG",
        "colab_type": "code",
        "colab": {}
      },
      "source": [
        "%%bigquery --project protean-genius-271221 df_dates\n",
        "SELECT sum(bottles_sold) as bottles_sold, FORMAT_DATE('%a',date) AS weekday FROM `bigquery-public-data.iowa_liquor_sales.sales` group by weekday"
      ],
      "execution_count": 0,
      "outputs": []
    },
    {
      "cell_type": "code",
      "metadata": {
        "id": "xiJZ8G3MMI-8",
        "colab_type": "code",
        "colab": {}
      },
      "source": [
        "df_dates"
      ],
      "execution_count": 0,
      "outputs": []
    },
    {
      "cell_type": "code",
      "metadata": {
        "id": "q-WY6-HYOdD3",
        "colab_type": "code",
        "colab": {}
      },
      "source": [
        ""
      ],
      "execution_count": 0,
      "outputs": []
    },
    {
      "cell_type": "code",
      "metadata": {
        "id": "64MDhIpROgOx",
        "colab_type": "code",
        "colab": {}
      },
      "source": [
        "sns.barplot(x = 'weekday', y = 'bottles_sold',  data = df_dates, color=\"blue\")\n",
        "plt.xticks(rotation=50, horizontalalignment='right')\n",
        "plt.xlabel('Day of the week')\n",
        "plt.ylabel('Bottles sold')\n",
        "plt.title(\"Number of bottles sold by day of the week\")\n",
        "plt.show()\n",
        "\n"
      ],
      "execution_count": 0,
      "outputs": []
    },
    {
      "cell_type": "code",
      "metadata": {
        "id": "FknRFlXsMzJO",
        "colab_type": "code",
        "colab": {}
      },
      "source": [
        "# group by month\n",
        "%%bigquery --project protean-genius-271221 df_dates\n",
        "SELECT sum(bottles_sold) as bottles_sold, FORMAT_DATE('%b',date) AS month FROM `bigquery-public-data.iowa_liquor_sales.sales` group by month"
      ],
      "execution_count": 0,
      "outputs": []
    },
    {
      "cell_type": "code",
      "metadata": {
        "id": "K1-Lu_h9M7jy",
        "colab_type": "code",
        "colab": {}
      },
      "source": [
        "df_dates"
      ],
      "execution_count": 0,
      "outputs": []
    },
    {
      "cell_type": "code",
      "metadata": {
        "id": "xDLnAXsMO1Mu",
        "colab_type": "code",
        "colab": {}
      },
      "source": [
        "sns.barplot(x = 'month', y = 'bottles_sold',  data = df_dates, color=\"blue\")\n",
        "plt.xticks(rotation=50, horizontalalignment='right')\n",
        "plt.xlabel('Month')\n",
        "plt.ylabel('Bottles sold')\n",
        "plt.title(\"Number of bottles sold by month\")\n",
        "plt.show()"
      ],
      "execution_count": 0,
      "outputs": []
    },
    {
      "cell_type": "code",
      "metadata": {
        "id": "b-vm_qgsSasx",
        "colab_type": "code",
        "colab": {}
      },
      "source": [
        "# group by year\n",
        "%%bigquery --project protean-genius-271221 df_dates\n",
        "SELECT sum(bottles_sold) as bottles_sold, FORMAT_DATE('%Y',date) AS year FROM `bigquery-public-data.iowa_liquor_sales.sales` group by year order by year"
      ],
      "execution_count": 0,
      "outputs": []
    },
    {
      "cell_type": "code",
      "metadata": {
        "id": "Ndu2vbGzSelk",
        "colab_type": "code",
        "colab": {}
      },
      "source": [
        "df_dates"
      ],
      "execution_count": 0,
      "outputs": []
    },
    {
      "cell_type": "code",
      "metadata": {
        "id": "4i9n8O3wO3YR",
        "colab_type": "code",
        "colab": {}
      },
      "source": [
        "sns.barplot(x = 'year', y = 'bottles_sold',  data = df_dates, color=\"blue\")\n",
        "plt.xticks(rotation=50, horizontalalignment='right')\n",
        "plt.xlabel('Year')\n",
        "plt.ylabel('Bottles sold')\n",
        "plt.title(\"Number of bottles sold by year\")\n",
        "plt.show()"
      ],
      "execution_count": 0,
      "outputs": []
    }
  ]
}