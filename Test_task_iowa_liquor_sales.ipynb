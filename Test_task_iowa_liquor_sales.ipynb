{
  "nbformat": 4,
  "nbformat_minor": 0,
  "metadata": {
    "colab": {
      "name": "Test task iowa_liquor_sales.ipynb",
      "provenance": [],
      "authorship_tag": "ABX9TyO84WW1yqmSoIvUnl5uuFWf",
      "include_colab_link": true
    },
    "kernelspec": {
      "name": "python3",
      "display_name": "Python 3"
    }
  },
  "cells": [
    {
      "cell_type": "markdown",
      "metadata": {
        "id": "view-in-github",
        "colab_type": "text"
      },
      "source": [
        "<a href=\"https://colab.research.google.com/github/lytvyniuk/iowa_liquor_sales-Exploratory-Data-Analysis-/blob/stage/Test_task_iowa_liquor_sales.ipynb\" target=\"_parent\"><img src=\"https://colab.research.google.com/assets/colab-badge.svg\" alt=\"Open In Colab\"/></a>"
      ]
    },
    {
      "cell_type": "code",
      "metadata": {
        "id": "sj8IAreTE909",
        "colab_type": "code",
        "colab": {}
      },
      "source": [
        "from google.colab import auth\n",
        "auth.authenticate_user()\n",
        "print('Authenticated')"
      ],
      "execution_count": 0,
      "outputs": []
    },
    {
      "cell_type": "code",
      "metadata": {
        "id": "6JRTsEzZFMhJ",
        "colab_type": "code",
        "colab": {}
      },
      "source": [
        "%matplotlib inline\n",
        "import matplotlib.pyplot as plt\n",
        "import seaborn as sns\n",
        "import pandas as pd\n",
        "import numpy as np"
      ],
      "execution_count": 0,
      "outputs": []
    },
    {
      "cell_type": "markdown",
      "metadata": {
        "id": "ZviyD58VFZuq",
        "colab_type": "text"
      },
      "source": [
        "**Initial Data Cleaning**"
      ]
    },
    {
      "cell_type": "code",
      "metadata": {
        "id": "mfozrgvSFaU-",
        "colab_type": "code",
        "colab": {}
      },
      "source": [
        ""
      ],
      "execution_count": 0,
      "outputs": []
    },
    {
      "cell_type": "markdown",
      "metadata": {
        "id": "qFJ3GhpBG-rc",
        "colab_type": "text"
      },
      "source": [
        "**Top 10 stores with the most bottles sold**"
      ]
    },
    {
      "cell_type": "code",
      "metadata": {
        "id": "SW5ZVddrGw2I",
        "colab_type": "code",
        "colab": {}
      },
      "source": [
        "# select aggregated data on bottles_sold and vendors\n",
        "%%bigquery --project protean-genius-271221 df\n",
        "SELECT vendor_number, sum(bottles_sold)  as bottles_sold FROM `bigquery-public-data.iowa_liquor_sales.sales`  group by vendor_number order by bottles_sold desc limit 10"
      ],
      "execution_count": 0,
      "outputs": []
    },
    {
      "cell_type": "code",
      "metadata": {
        "id": "Anp5jOelFagf",
        "colab_type": "code",
        "colab": {}
      },
      "source": [
        "# select unique names of the stores , because some stores have same name code but slight difference in names (uppercase and lowercase etc), so it is needed to group correctly\n",
        "%%bigquery --project protean-genius-271221 df_names\n",
        "SELECT distinct vendor_number, vendor_name FROM `bigquery-public-data.iowa_liquor_sales.sales` "
      ],
      "execution_count": 0,
      "outputs": []
    },
    {
      "cell_type": "code",
      "metadata": {
        "id": "qfvla90UFiD_",
        "colab_type": "code",
        "colab": {}
      },
      "source": [
        "# merging with names\n",
        "df = pd.merge(df, df_names, on = \"vendor_number\", how='left').drop_duplicates(subset='vendor_number', keep=\"first\")\n",
        "df\n"
      ],
      "execution_count": 0,
      "outputs": []
    },
    {
      "cell_type": "code",
      "metadata": {
        "id": "QaUUaMdWFnDF",
        "colab_type": "code",
        "colab": {}
      },
      "source": [
        "sns.barplot(x = 'vendor_name', y = 'bottles_sold',  data = df, color=\"green\")\n",
        "plt.xticks(rotation=50, horizontalalignment='right')\n",
        "plt.xlabel(\"Vendor name\")\n",
        "plt.ylabel(\"Bottles sold\")\n",
        "plt.title(\"Top 10 biggest vendors\")\n",
        "plt.show()"
      ],
      "execution_count": 0,
      "outputs": []
    },
    {
      "cell_type": "code",
      "metadata": {
        "id": "Ha_z58i3OXyK",
        "colab_type": "code",
        "colab": {}
      },
      "source": [
        ""
      ],
      "execution_count": 0,
      "outputs": []
    },
    {
      "cell_type": "markdown",
      "metadata": {
        "id": "2je1REj2Oo_L",
        "colab_type": "text"
      },
      "source": [
        "Let's see how many drinks are sold in different days, month."
      ]
    },
    {
      "cell_type": "code",
      "metadata": {
        "id": "m5zDhgR1OYIG",
        "colab_type": "code",
        "colab": {}
      },
      "source": [
        "%%bigquery --project protean-genius-271221 df_dates\n",
        "SELECT bottles_sold, date FROM `bigquery-public-data.iowa_liquor_sales.sales` limit 10000"
      ],
      "execution_count": 0,
      "outputs": []
    },
    {
      "cell_type": "code",
      "metadata": {
        "id": "q-WY6-HYOdD3",
        "colab_type": "code",
        "colab": {}
      },
      "source": [
        "# date column to datetime\n",
        "df_dates['date'] = pd.to_datetime(df_dates['date'], errors='coerce')\n",
        "# select day of week, day of month, month from date\n",
        "df_dates['Week_day'] = df_dates['date'].dt.weekday\n",
        "df_dates['Month_day'] = df_dates['date'].dt.day\n",
        "df_dates['Month'] = df_dates['date'].dt.month\n",
        "\n",
        "# group by day of week\n",
        "df_dates_agg = df_dates.groupby(['Week_day'])['bottles_sold'].sum().reset_index()\n",
        "df_dates_agg = pd.DataFrame(df_dates_agg,columns=['Week_day', 'bottles_sold'])"
      ],
      "execution_count": 0,
      "outputs": []
    },
    {
      "cell_type": "code",
      "metadata": {
        "id": "64MDhIpROgOx",
        "colab_type": "code",
        "colab": {}
      },
      "source": [
        "plt2 = sns.barplot(x = 'Week_day', y = 'bottles_sold',  data = df_dates_agg, color=\"blue\")\n",
        "plt2.set_xticklabels(plt2.get_xticklabels(), rotation=50, horizontalalignment='right')\n",
        "plt2.set(xlabel='Day of the week', ylabel='Bottles sold')"
      ],
      "execution_count": 0,
      "outputs": []
    },
    {
      "cell_type": "code",
      "metadata": {
        "id": "xDLnAXsMO1Mu",
        "colab_type": "code",
        "colab": {}
      },
      "source": [
        "# group by day of month\n",
        "df_dates_agg = df_dates.groupby('Month_day')['bottles_sold'].sum().reset_index()\n",
        "df_dates_agg = pd.DataFrame(df_dates_agg,columns=['Month_day', 'bottles_sold'])\n",
        "df_dates_agg\n",
        "\n",
        "plt3 = sns.barplot(x = 'Month_day', y = 'bottles_sold',  data = df_dates_agg, color=\"blue\")\n",
        "plt3.set_xticklabels(plt3.get_xticklabels(), rotation=50, horizontalalignment='right')\n",
        "plt3.set(xlabel='Day of the month', ylabel='Bottles sold')"
      ],
      "execution_count": 0,
      "outputs": []
    },
    {
      "cell_type": "code",
      "metadata": {
        "id": "4i9n8O3wO3YR",
        "colab_type": "code",
        "colab": {}
      },
      "source": [
        "# group by month\n",
        "df_dates_agg = df_dates.groupby('Month')['bottles_sold'].sum().reset_index()\n",
        "df_dates_agg = pd.DataFrame(df_dates_agg,columns=['Month', 'bottles_sold'])\n",
        "df_dates_agg\n",
        "\n",
        "plt4 = sns.barplot(x = 'Month', y = 'bottles_sold',  data = df_dates_agg, color=\"blue\")\n",
        "plt4.set_xticklabels(plt4.get_xticklabels(), rotation=50, horizontalalignment='right')\n",
        "plt4.set(xlabel='Month', ylabel='Bottles sold')"
      ],
      "execution_count": 0,
      "outputs": []
    }
  ]
}