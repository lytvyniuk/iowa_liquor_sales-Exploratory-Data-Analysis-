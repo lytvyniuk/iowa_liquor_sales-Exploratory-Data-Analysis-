{
  "nbformat": 4,
  "nbformat_minor": 0,
  "metadata": {
    "colab": {
      "name": "Test task iowa_liquor_sales.ipynb",
      "provenance": [],
      "authorship_tag": "ABX9TyOyvvnDkRrJN5giV1omAMvF",
      "include_colab_link": true
    },
    "kernelspec": {
      "name": "python3",
      "display_name": "Python 3"
    }
  },
  "cells": [
    {
      "cell_type": "markdown",
      "metadata": {
        "id": "view-in-github",
        "colab_type": "text"
      },
      "source": [
        "<a href=\"https://colab.research.google.com/github/lytvyniuk/iowa_liquor_sales-Exploratory-Data-Analysis-/blob/master/Test_task_iowa_liquor_sales.ipynb\" target=\"_parent\"><img src=\"https://colab.research.google.com/assets/colab-badge.svg\" alt=\"Open In Colab\"/></a>"
      ]
    },
    {
      "cell_type": "code",
      "metadata": {
        "id": "sj8IAreTE909",
        "colab_type": "code",
        "outputId": "e4f3ee70-0f4b-4164-be7e-a5e749587eba",
        "colab": {
          "base_uri": "https://localhost:8080/",
          "height": 35
        }
      },
      "source": [
        "# please run this cell and follow the link to authenticate\n",
        "from google.colab import auth\n",
        "auth.authenticate_user()\n",
        "print('Authenticated')"
      ],
      "execution_count": 24,
      "outputs": [
        {
          "output_type": "stream",
          "text": [
            "Authenticated\n"
          ],
          "name": "stdout"
        }
      ]
    },
    {
      "cell_type": "code",
      "metadata": {
        "id": "6JRTsEzZFMhJ",
        "colab_type": "code",
        "colab": {}
      },
      "source": [
        "%matplotlib inline\n",
        "import matplotlib.pyplot as plt\n",
        "import seaborn as sns\n",
        "import pandas as pd\n",
        "import numpy as np"
      ],
      "execution_count": 0,
      "outputs": []
    },
    {
      "cell_type": "markdown",
      "metadata": {
        "id": "79lQ0hHCAg1X",
        "colab_type": "text"
      },
      "source": [
        "The dataset analysis can be useful to find out the best time to sell items, the most profitable vendors, the most popular drinks etc. This information eventually can help to understand businesses how to act to gain more revenue.\n",
        "\n",
        "I start with general analysis of the data and go in details if I find an interesting observation."
      ]
    },
    {
      "cell_type": "markdown",
      "metadata": {
        "id": "qFJ3GhpBG-rc",
        "colab_type": "text"
      },
      "source": [
        "**Top 10 stores with the most bottles sold**"
      ]
    },
    {
      "cell_type": "markdown",
      "metadata": {
        "id": "0L-z04j3AkNV",
        "colab_type": "text"
      },
      "source": [
        "Let's find out what vendors are the biggest on the market in terms of sold bottles. There are a lot of them, so I showed top 10 on the plot for better visualisation."
      ]
    },
    {
      "cell_type": "code",
      "metadata": {
        "id": "SW5ZVddrGw2I",
        "colab_type": "code",
        "colab": {}
      },
      "source": [
        "# select aggregated data on bottles_sold and vendors\n",
        "%%bigquery --project protean-genius-271221 df\n",
        "SELECT vendor_number, sum(bottles_sold)  as bottles_sold FROM `bigquery-public-data.iowa_liquor_sales.sales`  group by vendor_number order by bottles_sold desc limit 10"
      ],
      "execution_count": 0,
      "outputs": []
    },
    {
      "cell_type": "code",
      "metadata": {
        "id": "Anp5jOelFagf",
        "colab_type": "code",
        "colab": {}
      },
      "source": [
        "# select unique names of the stores , because some stores have same name code but slight difference in names (uppercase and lowercase etc), so it is needed to group correctly\n",
        "%%bigquery --project protean-genius-271221 df_names\n",
        "SELECT distinct vendor_number, vendor_name FROM `bigquery-public-data.iowa_liquor_sales.sales` "
      ],
      "execution_count": 0,
      "outputs": []
    },
    {
      "cell_type": "code",
      "metadata": {
        "id": "qfvla90UFiD_",
        "colab_type": "code",
        "colab": {
          "base_uri": "https://localhost:8080/",
          "height": 348
        },
        "outputId": "b5101c4f-16a0-425f-fd91-534dd691c5ee"
      },
      "source": [
        "# merging with names\n",
        "df = pd.merge(df, df_names, on = \"vendor_number\", how='left').drop_duplicates(subset='vendor_number', keep=\"first\")\n",
        "df\n"
      ],
      "execution_count": 28,
      "outputs": [
        {
          "output_type": "execute_result",
          "data": {
            "text/html": [
              "<div>\n",
              "<style scoped>\n",
              "    .dataframe tbody tr th:only-of-type {\n",
              "        vertical-align: middle;\n",
              "    }\n",
              "\n",
              "    .dataframe tbody tr th {\n",
              "        vertical-align: top;\n",
              "    }\n",
              "\n",
              "    .dataframe thead th {\n",
              "        text-align: right;\n",
              "    }\n",
              "</style>\n",
              "<table border=\"1\" class=\"dataframe\">\n",
              "  <thead>\n",
              "    <tr style=\"text-align: right;\">\n",
              "      <th></th>\n",
              "      <th>vendor_number</th>\n",
              "      <th>bottles_sold</th>\n",
              "      <th>vendor_name</th>\n",
              "    </tr>\n",
              "  </thead>\n",
              "  <tbody>\n",
              "    <tr>\n",
              "      <th>0</th>\n",
              "      <td>260</td>\n",
              "      <td>29605348</td>\n",
              "      <td>DIAGEO AMERICAS</td>\n",
              "    </tr>\n",
              "    <tr>\n",
              "      <th>2</th>\n",
              "      <td>434</td>\n",
              "      <td>18779582</td>\n",
              "      <td>LUXCO INC</td>\n",
              "    </tr>\n",
              "    <tr>\n",
              "      <th>4</th>\n",
              "      <td>421</td>\n",
              "      <td>16395519</td>\n",
              "      <td>Sazerac Co., Inc.</td>\n",
              "    </tr>\n",
              "    <tr>\n",
              "      <th>6</th>\n",
              "      <td>115</td>\n",
              "      <td>14648525</td>\n",
              "      <td>Constellation Wine Company, Inc.</td>\n",
              "    </tr>\n",
              "    <tr>\n",
              "      <th>8</th>\n",
              "      <td>370</td>\n",
              "      <td>10300501</td>\n",
              "      <td>PERNOD RICARD USA</td>\n",
              "    </tr>\n",
              "    <tr>\n",
              "      <th>10</th>\n",
              "      <td>65</td>\n",
              "      <td>7567482</td>\n",
              "      <td>Jim Beam Brands</td>\n",
              "    </tr>\n",
              "    <tr>\n",
              "      <th>11</th>\n",
              "      <td>297</td>\n",
              "      <td>7419732</td>\n",
              "      <td>Laird &amp; Company</td>\n",
              "    </tr>\n",
              "    <tr>\n",
              "      <th>13</th>\n",
              "      <td>300</td>\n",
              "      <td>6469489</td>\n",
              "      <td>McCormick Distilling Co.</td>\n",
              "    </tr>\n",
              "    <tr>\n",
              "      <th>15</th>\n",
              "      <td>259</td>\n",
              "      <td>6193042</td>\n",
              "      <td>Heaven Hill Brands</td>\n",
              "    </tr>\n",
              "    <tr>\n",
              "      <th>16</th>\n",
              "      <td>065</td>\n",
              "      <td>6117304</td>\n",
              "      <td>Jim Beam Brands</td>\n",
              "    </tr>\n",
              "  </tbody>\n",
              "</table>\n",
              "</div>"
            ],
            "text/plain": [
              "   vendor_number  bottles_sold                       vendor_name\n",
              "0            260      29605348                   DIAGEO AMERICAS\n",
              "2            434      18779582                         LUXCO INC\n",
              "4            421      16395519                 Sazerac Co., Inc.\n",
              "6            115      14648525  Constellation Wine Company, Inc.\n",
              "8            370      10300501                 PERNOD RICARD USA\n",
              "10            65       7567482                   Jim Beam Brands\n",
              "11           297       7419732                   Laird & Company\n",
              "13           300       6469489          McCormick Distilling Co.\n",
              "15           259       6193042                Heaven Hill Brands\n",
              "16           065       6117304                   Jim Beam Brands"
            ]
          },
          "metadata": {
            "tags": []
          },
          "execution_count": 28
        }
      ]
    },
    {
      "cell_type": "code",
      "metadata": {
        "id": "QaUUaMdWFnDF",
        "colab_type": "code",
        "colab": {
          "base_uri": "https://localhost:8080/",
          "height": 421
        },
        "outputId": "5f2f0ebe-ecc7-4258-8051-495e3b7694f1"
      },
      "source": [
        "sns.barplot(x = 'vendor_name', y = 'bottles_sold',  data = df, color=\"green\")\n",
        "plt.xticks(rotation=50, horizontalalignment='right')\n",
        "plt.xlabel(\"Vendor name\")\n",
        "plt.ylabel(\"Bottles sold\")\n",
        "plt.title(\"Top 10 biggest vendors\")\n",
        "plt.show()"
      ],
      "execution_count": 29,
      "outputs": [
        {
          "output_type": "display_data",
          "data": {
            "image/png": "[encoded data removed]",
            "text/plain": [
              "<Figure size 432x288 with 1 Axes>"
            ]
          },
          "metadata": {
            "tags": []
          }
        }
      ]
    },
    {
      "cell_type": "markdown",
      "metadata": {
        "id": "ajC7ldaimLWv",
        "colab_type": "text"
      },
      "source": [
        "**What is the most popular category of liquors in terms of bottles sold?**"
      ]
    },
    {
      "cell_type": "code",
      "metadata": {
        "id": "Ha_z58i3OXyK",
        "colab_type": "code",
        "colab": {}
      },
      "source": [
        "%%bigquery --project protean-genius-271221 df\n",
        "SELECT category,category_name, sum(bottles_sold) as bottles_sold FROM `bigquery-public-data.iowa_liquor_sales.sales`group by category,category_name order by bottles_sold desc limit 10"
      ],
      "execution_count": 0,
      "outputs": []
    },
    {
      "cell_type": "code",
      "metadata": {
        "id": "G47iOCjamx19",
        "colab_type": "code",
        "colab": {
          "base_uri": "https://localhost:8080/",
          "height": 348
        },
        "outputId": "653f42e0-dac8-4ff7-f7f0-554c40b70589"
      },
      "source": [
        "df"
      ],
      "execution_count": 52,
      "outputs": [
        {
          "output_type": "execute_result",
          "data": {
            "text/html": [
              "<div>\n",
              "<style scoped>\n",
              "    .dataframe tbody tr th:only-of-type {\n",
              "        vertical-align: middle;\n",
              "    }\n",
              "\n",
              "    .dataframe tbody tr th {\n",
              "        vertical-align: top;\n",
              "    }\n",
              "\n",
              "    .dataframe thead th {\n",
              "        text-align: right;\n",
              "    }\n",
              "</style>\n",
              "<table border=\"1\" class=\"dataframe\">\n",
              "  <thead>\n",
              "    <tr style=\"text-align: right;\">\n",
              "      <th></th>\n",
              "      <th>category</th>\n",
              "      <th>category_name</th>\n",
              "      <th>bottles_sold</th>\n",
              "    </tr>\n",
              "  </thead>\n",
              "  <tbody>\n",
              "    <tr>\n",
              "      <th>0</th>\n",
              "      <td>1031100</td>\n",
              "      <td>American Vodkas</td>\n",
              "      <td>18691485</td>\n",
              "    </tr>\n",
              "    <tr>\n",
              "      <th>1</th>\n",
              "      <td>1031080</td>\n",
              "      <td>VODKA 80 PROOF</td>\n",
              "      <td>18124615</td>\n",
              "    </tr>\n",
              "    <tr>\n",
              "      <th>2</th>\n",
              "      <td>1012100</td>\n",
              "      <td>CANADIAN WHISKIES</td>\n",
              "      <td>11123969</td>\n",
              "    </tr>\n",
              "    <tr>\n",
              "      <th>3</th>\n",
              "      <td>1012100</td>\n",
              "      <td>Canadian Whiskies</td>\n",
              "      <td>9922959</td>\n",
              "    </tr>\n",
              "    <tr>\n",
              "      <th>4</th>\n",
              "      <td>1062310</td>\n",
              "      <td>SPICED RUM</td>\n",
              "      <td>6633940</td>\n",
              "    </tr>\n",
              "    <tr>\n",
              "      <th>5</th>\n",
              "      <td>1081600</td>\n",
              "      <td>Whiskey Liqueur</td>\n",
              "      <td>6420596</td>\n",
              "    </tr>\n",
              "    <tr>\n",
              "      <th>6</th>\n",
              "      <td>1062400</td>\n",
              "      <td>Spiced Rum</td>\n",
              "      <td>5080127</td>\n",
              "    </tr>\n",
              "    <tr>\n",
              "      <th>7</th>\n",
              "      <td>1022100</td>\n",
              "      <td>TEQUILA</td>\n",
              "      <td>4079513</td>\n",
              "    </tr>\n",
              "    <tr>\n",
              "      <th>8</th>\n",
              "      <td>1011100</td>\n",
              "      <td>BLENDED WHISKIES</td>\n",
              "      <td>4073313</td>\n",
              "    </tr>\n",
              "    <tr>\n",
              "      <th>9</th>\n",
              "      <td>1011200</td>\n",
              "      <td>Straight Bourbon Whiskies</td>\n",
              "      <td>4040178</td>\n",
              "    </tr>\n",
              "  </tbody>\n",
              "</table>\n",
              "</div>"
            ],
            "text/plain": [
              "  category              category_name  bottles_sold\n",
              "0  1031100            American Vodkas      18691485\n",
              "1  1031080             VODKA 80 PROOF      18124615\n",
              "2  1012100          CANADIAN WHISKIES      11123969\n",
              "3  1012100          Canadian Whiskies       9922959\n",
              "4  1062310                 SPICED RUM       6633940\n",
              "5  1081600            Whiskey Liqueur       6420596\n",
              "6  1062400                 Spiced Rum       5080127\n",
              "7  1022100                    TEQUILA       4079513\n",
              "8  1011100           BLENDED WHISKIES       4073313\n",
              "9  1011200  Straight Bourbon Whiskies       4040178"
            ]
          },
          "metadata": {
            "tags": []
          },
          "execution_count": 52
        }
      ]
    },
    {
      "cell_type": "markdown",
      "metadata": {
        "id": "_NcZj-F5m-c4",
        "colab_type": "text"
      },
      "source": [
        "One category has same name (with different case) but different category code, which is strange. I leave it as it is, but if one of codes is wrong , 'Spiced Rum' would have a higher position."
      ]
    },
    {
      "cell_type": "code",
      "metadata": {
        "id": "GEFlkyA8mruF",
        "colab_type": "code",
        "colab": {
          "base_uri": "https://localhost:8080/",
          "height": 393
        },
        "outputId": "18c4eb52-35ec-4955-eecc-29ce0486eff4"
      },
      "source": [
        "sns.barplot(x = 'category_name', y = 'bottles_sold',  data = df, color=\"lightblue\")\n",
        "plt.xticks(rotation=50, horizontalalignment='right')\n",
        "plt.xlabel(\"Vendor name\")\n",
        "plt.ylabel(\"Bottles sold\")\n",
        "plt.title(\"Top 10 most popuar categories of liquors \")\n",
        "plt.show()"
      ],
      "execution_count": 53,
      "outputs": [
        {
          "output_type": "display_data",
          "data": {
            "image/png": "[encoded data removed]",
            "text/plain": [
              "<Figure size 432x288 with 1 Axes>"
            ]
          },
          "metadata": {
            "tags": []
          }
        }
      ]
    },
    {
      "cell_type": "markdown",
      "metadata": {
        "id": "MYuEvKQhnRsq",
        "colab_type": "text"
      },
      "source": [
        "Vodka is the most popular one, American vodkas category in particular."
      ]
    },
    {
      "cell_type": "markdown",
      "metadata": {
        "id": "2je1REj2Oo_L",
        "colab_type": "text"
      },
      "source": [
        "\n",
        "\n",
        "\n",
        " **Let's see how many drinks are sold in different days, monthes, years for all vendors.**"
      ]
    },
    {
      "cell_type": "code",
      "metadata": {
        "id": "m5zDhgR1OYIG",
        "colab_type": "code",
        "colab": {}
      },
      "source": [
        "%%bigquery --project protean-genius-271221 df\n",
        "SELECT sum(bottles_sold) as bottles_sold, FORMAT_DATE('%a',date) AS weekday FROM `bigquery-public-data.iowa_liquor_sales.sales` group by weekday"
      ],
      "execution_count": 0,
      "outputs": []
    },
    {
      "cell_type": "code",
      "metadata": {
        "id": "xiJZ8G3MMI-8",
        "colab_type": "code",
        "colab": {}
      },
      "source": [
        "df_dates.dtypes"
      ],
      "execution_count": 0,
      "outputs": []
    },
    {
      "cell_type": "code",
      "metadata": {
        "id": "q-WY6-HYOdD3",
        "colab_type": "code",
        "colab": {}
      },
      "source": [
        "\n"
      ],
      "execution_count": 0,
      "outputs": []
    },
    {
      "cell_type": "code",
      "metadata": {
        "id": "64MDhIpROgOx",
        "colab_type": "code",
        "colab": {}
      },
      "source": [
        "order = [\"Mon\", \"Tue\", \"Wed\", \"Thu\", \"Fri\", \"Sat\", 'Sun']\n",
        "sns.barplot(x = 'weekday', y = 'bottles_sold',  data = df_dates, color=\"blue\", order = order)\n",
        "plt.xlabel('Day of the week')\n",
        "plt.ylabel('Bottles sold')\n",
        "plt.title(\"Number of bottles sold by day of the week\")\n",
        "plt.show()\n",
        "\n"
      ],
      "execution_count": 0,
      "outputs": []
    },
    {
      "cell_type": "markdown",
      "metadata": {
        "id": "E-W_h-GgJRf_",
        "colab_type": "text"
      },
      "source": [
        "Interesting observation that liquors almost were not sold on weekends, which is most likely caused by law restrictions. However, there is small amount of sales on Saturday. Amount of bottles on Mon - Thu is almost on the same level but it is suprisingly higher comparing to sales on Friday."
      ]
    },
    {
      "cell_type": "code",
      "metadata": {
        "id": "80GbrnwHMG9e",
        "colab_type": "code",
        "colab": {}
      },
      "source": [
        "# let's see something from Saturday data, where sales are much lower\n",
        "%%bigquery --project protean-genius-271221 df\n",
        "select * from (SELECT vendor_number, sum(bottles_sold) as bottles_sold, FORMAT_DATE('%a',date) AS weekday FROM `bigquery-public-data.iowa_liquor_sales.sales`group by vendor_number, weekday) where weekday = 'Sat' order by bottles_sold desc limit 10"
      ],
      "execution_count": 0,
      "outputs": []
    },
    {
      "cell_type": "code",
      "metadata": {
        "id": "i3BhZSIphUKC",
        "colab_type": "code",
        "colab": {
          "base_uri": "https://localhost:8080/",
          "height": 348
        },
        "outputId": "eac28b0d-4c3a-4d9a-8997-d7e7220bc7cc"
      },
      "source": [
        "# merging with names\n",
        "df = pd.merge(df, df_names, on = \"vendor_number\", how='left').drop_duplicates(subset='vendor_number', keep=\"first\")\n",
        "df"
      ],
      "execution_count": 43,
      "outputs": [
        {
          "output_type": "execute_result",
          "data": {
            "text/html": [
              "<div>\n",
              "<style scoped>\n",
              "    .dataframe tbody tr th:only-of-type {\n",
              "        vertical-align: middle;\n",
              "    }\n",
              "\n",
              "    .dataframe tbody tr th {\n",
              "        vertical-align: top;\n",
              "    }\n",
              "\n",
              "    .dataframe thead th {\n",
              "        text-align: right;\n",
              "    }\n",
              "</style>\n",
              "<table border=\"1\" class=\"dataframe\">\n",
              "  <thead>\n",
              "    <tr style=\"text-align: right;\">\n",
              "      <th></th>\n",
              "      <th>vendor_number</th>\n",
              "      <th>bottles_sold</th>\n",
              "      <th>weekday</th>\n",
              "      <th>vendor_name</th>\n",
              "    </tr>\n",
              "  </thead>\n",
              "  <tbody>\n",
              "    <tr>\n",
              "      <th>0</th>\n",
              "      <td>260</td>\n",
              "      <td>219641</td>\n",
              "      <td>Sat</td>\n",
              "      <td>DIAGEO AMERICAS</td>\n",
              "    </tr>\n",
              "    <tr>\n",
              "      <th>2</th>\n",
              "      <td>434</td>\n",
              "      <td>138562</td>\n",
              "      <td>Sat</td>\n",
              "      <td>LUXCO INC</td>\n",
              "    </tr>\n",
              "    <tr>\n",
              "      <th>4</th>\n",
              "      <td>421</td>\n",
              "      <td>130239</td>\n",
              "      <td>Sat</td>\n",
              "      <td>Sazerac Co., Inc.</td>\n",
              "    </tr>\n",
              "    <tr>\n",
              "      <th>6</th>\n",
              "      <td>115</td>\n",
              "      <td>82380</td>\n",
              "      <td>Sat</td>\n",
              "      <td>Constellation Wine Company, Inc.</td>\n",
              "    </tr>\n",
              "    <tr>\n",
              "      <th>8</th>\n",
              "      <td>370</td>\n",
              "      <td>64995</td>\n",
              "      <td>Sat</td>\n",
              "      <td>PERNOD RICARD USA</td>\n",
              "    </tr>\n",
              "    <tr>\n",
              "      <th>10</th>\n",
              "      <td>65</td>\n",
              "      <td>62483</td>\n",
              "      <td>Sat</td>\n",
              "      <td>Jim Beam Brands</td>\n",
              "    </tr>\n",
              "    <tr>\n",
              "      <th>11</th>\n",
              "      <td>259</td>\n",
              "      <td>58688</td>\n",
              "      <td>Sat</td>\n",
              "      <td>Heaven Hill Brands</td>\n",
              "    </tr>\n",
              "    <tr>\n",
              "      <th>12</th>\n",
              "      <td>297</td>\n",
              "      <td>57241</td>\n",
              "      <td>Sat</td>\n",
              "      <td>Laird &amp; Company</td>\n",
              "    </tr>\n",
              "    <tr>\n",
              "      <th>14</th>\n",
              "      <td>300</td>\n",
              "      <td>44605</td>\n",
              "      <td>Sat</td>\n",
              "      <td>McCormick Distilling Co.</td>\n",
              "    </tr>\n",
              "    <tr>\n",
              "      <th>16</th>\n",
              "      <td>55</td>\n",
              "      <td>42730</td>\n",
              "      <td>Sat</td>\n",
              "      <td>Sazerac North America</td>\n",
              "    </tr>\n",
              "  </tbody>\n",
              "</table>\n",
              "</div>"
            ],
            "text/plain": [
              "   vendor_number  bottles_sold weekday                       vendor_name\n",
              "0            260        219641     Sat                   DIAGEO AMERICAS\n",
              "2            434        138562     Sat                         LUXCO INC\n",
              "4            421        130239     Sat                 Sazerac Co., Inc.\n",
              "6            115         82380     Sat  Constellation Wine Company, Inc.\n",
              "8            370         64995     Sat                 PERNOD RICARD USA\n",
              "10            65         62483     Sat                   Jim Beam Brands\n",
              "11           259         58688     Sat                Heaven Hill Brands\n",
              "12           297         57241     Sat                   Laird & Company\n",
              "14           300         44605     Sat          McCormick Distilling Co.\n",
              "16            55         42730     Sat             Sazerac North America"
            ]
          },
          "metadata": {
            "tags": []
          },
          "execution_count": 43
        }
      ]
    },
    {
      "cell_type": "code",
      "metadata": {
        "id": "FF-OEz72iEkX",
        "colab_type": "code",
        "colab": {
          "base_uri": "https://localhost:8080/",
          "height": 421
        },
        "outputId": "8c87b870-f2ab-4e25-d0e9-7badd4140000"
      },
      "source": [
        "sns.barplot(x = 'vendor_name', y = 'bottles_sold',  data = df, color=\"green\")\n",
        "plt.xticks(rotation=50, horizontalalignment='right')\n",
        "plt.xlabel(\"Vendor name\")\n",
        "plt.ylabel(\"Bottles sold\")\n",
        "plt.title(\"Top biggest vendors on Saturday\")\n",
        "plt.show()"
      ],
      "execution_count": 44,
      "outputs": [
        {
          "output_type": "display_data",
          "data": {
            "image/png": "[encoded data removed]",
            "text/plain": [
              "<Figure size 432x288 with 1 Axes>"
            ]
          },
          "metadata": {
            "tags": []
          }
        }
      ]
    },
    {
      "cell_type": "markdown",
      "metadata": {
        "id": "dbZtA7RpjFJc",
        "colab_type": "text"
      },
      "source": [
        "Results are same as from whole dataset as expected.\n",
        "\n",
        "Also we can find out the most popular drink type."
      ]
    },
    {
      "cell_type": "code",
      "metadata": {
        "id": "_SG7KqbUjX6J",
        "colab_type": "code",
        "colab": {}
      },
      "source": [
        "# find out most popular types of liquor Saturday data\n",
        "%%bigquery --project protean-genius-271221 df\n",
        "select * from (SELECT category,category_name, sum(bottles_sold) as bottles_sold, FORMAT_DATE('%a',date) AS weekday FROM `bigquery-public-data.iowa_liquor_sales.sales`group by category,category_name, weekday) where weekday = 'Sat' order by bottles_sold desc limit 10"
      ],
      "execution_count": 0,
      "outputs": []
    },
    {
      "cell_type": "code",
      "metadata": {
        "id": "oY-0z-ERj6Ui",
        "colab_type": "code",
        "colab": {
          "base_uri": "https://localhost:8080/",
          "height": 348
        },
        "outputId": "811fa236-6c8a-4f25-f9af-dd145e8d0860"
      },
      "source": [
        "df"
      ],
      "execution_count": 46,
      "outputs": [
        {
          "output_type": "execute_result",
          "data": {
            "text/html": [
              "<div>\n",
              "<style scoped>\n",
              "    .dataframe tbody tr th:only-of-type {\n",
              "        vertical-align: middle;\n",
              "    }\n",
              "\n",
              "    .dataframe tbody tr th {\n",
              "        vertical-align: top;\n",
              "    }\n",
              "\n",
              "    .dataframe thead th {\n",
              "        text-align: right;\n",
              "    }\n",
              "</style>\n",
              "<table border=\"1\" class=\"dataframe\">\n",
              "  <thead>\n",
              "    <tr style=\"text-align: right;\">\n",
              "      <th></th>\n",
              "      <th>category</th>\n",
              "      <th>category_name</th>\n",
              "      <th>bottles_sold</th>\n",
              "      <th>weekday</th>\n",
              "    </tr>\n",
              "  </thead>\n",
              "  <tbody>\n",
              "    <tr>\n",
              "      <th>0</th>\n",
              "      <td>1031080</td>\n",
              "      <td>VODKA 80 PROOF</td>\n",
              "      <td>133522</td>\n",
              "      <td>Sat</td>\n",
              "    </tr>\n",
              "    <tr>\n",
              "      <th>1</th>\n",
              "      <td>1031100</td>\n",
              "      <td>American Vodkas</td>\n",
              "      <td>122997</td>\n",
              "      <td>Sat</td>\n",
              "    </tr>\n",
              "    <tr>\n",
              "      <th>2</th>\n",
              "      <td>1012100</td>\n",
              "      <td>CANADIAN WHISKIES</td>\n",
              "      <td>98149</td>\n",
              "      <td>Sat</td>\n",
              "    </tr>\n",
              "    <tr>\n",
              "      <th>3</th>\n",
              "      <td>1081600</td>\n",
              "      <td>Whiskey Liqueur</td>\n",
              "      <td>67729</td>\n",
              "      <td>Sat</td>\n",
              "    </tr>\n",
              "    <tr>\n",
              "      <th>4</th>\n",
              "      <td>1012100</td>\n",
              "      <td>Canadian Whiskies</td>\n",
              "      <td>62215</td>\n",
              "      <td>Sat</td>\n",
              "    </tr>\n",
              "    <tr>\n",
              "      <th>5</th>\n",
              "      <td>1062310</td>\n",
              "      <td>SPICED RUM</td>\n",
              "      <td>59496</td>\n",
              "      <td>Sat</td>\n",
              "    </tr>\n",
              "    <tr>\n",
              "      <th>6</th>\n",
              "      <td>1081600</td>\n",
              "      <td>WHISKEY LIQUEUR</td>\n",
              "      <td>35495</td>\n",
              "      <td>Sat</td>\n",
              "    </tr>\n",
              "    <tr>\n",
              "      <th>7</th>\n",
              "      <td>1062400</td>\n",
              "      <td>Spiced Rum</td>\n",
              "      <td>33748</td>\n",
              "      <td>Sat</td>\n",
              "    </tr>\n",
              "    <tr>\n",
              "      <th>8</th>\n",
              "      <td>1011200</td>\n",
              "      <td>STRAIGHT BOURBON WHISKIES</td>\n",
              "      <td>33684</td>\n",
              "      <td>Sat</td>\n",
              "    </tr>\n",
              "    <tr>\n",
              "      <th>9</th>\n",
              "      <td>1011100</td>\n",
              "      <td>BLENDED WHISKIES</td>\n",
              "      <td>30611</td>\n",
              "      <td>Sat</td>\n",
              "    </tr>\n",
              "  </tbody>\n",
              "</table>\n",
              "</div>"
            ],
            "text/plain": [
              "  category              category_name  bottles_sold weekday\n",
              "0  1031080             VODKA 80 PROOF        133522     Sat\n",
              "1  1031100            American Vodkas        122997     Sat\n",
              "2  1012100          CANADIAN WHISKIES         98149     Sat\n",
              "3  1081600            Whiskey Liqueur         67729     Sat\n",
              "4  1012100          Canadian Whiskies         62215     Sat\n",
              "5  1062310                 SPICED RUM         59496     Sat\n",
              "6  1081600            WHISKEY LIQUEUR         35495     Sat\n",
              "7  1062400                 Spiced Rum         33748     Sat\n",
              "8  1011200  STRAIGHT BOURBON WHISKIES         33684     Sat\n",
              "9  1011100           BLENDED WHISKIES         30611     Sat"
            ]
          },
          "metadata": {
            "tags": []
          },
          "execution_count": 46
        }
      ]
    },
    {
      "cell_type": "code",
      "metadata": {
        "id": "9O9tD9ockLsd",
        "colab_type": "code",
        "colab": {
          "base_uri": "https://localhost:8080/",
          "height": 411
        },
        "outputId": "f623f898-7ba0-4ef5-a2ca-5b547c607b74"
      },
      "source": [
        "sns.barplot(x = 'category_name', y = 'bottles_sold',  data = df, color=\"lightblue\")\n",
        "plt.xticks(rotation=50, horizontalalignment='right')\n",
        "plt.xlabel(\"Vendor name\")\n",
        "plt.ylabel(\"Bottles sold\")\n",
        "plt.title(\"Top 10 most popuar categories of liquors on Saturday\")\n",
        "plt.show()"
      ],
      "execution_count": 47,
      "outputs": [
        {
          "output_type": "display_data",
          "data": {
            "image/png": "[encoded data removed]",
            "text/plain": [
              "<Figure size 432x288 with 1 Axes>"
            ]
          },
          "metadata": {
            "tags": []
          }
        }
      ]
    },
    {
      "cell_type": "markdown",
      "metadata": {
        "id": "MraCmH0sneI6",
        "colab_type": "text"
      },
      "source": [
        "Also more or less same result, but different category name is on top."
      ]
    },
    {
      "cell_type": "code",
      "metadata": {
        "id": "FknRFlXsMzJO",
        "colab_type": "code",
        "colab": {}
      },
      "source": [
        "# group by month\n",
        "%%bigquery --project protean-genius-271221 df_dates\n",
        "SELECT sum(bottles_sold) as bottles_sold, FORMAT_DATE('%m',date) AS month FROM `bigquery-public-data.iowa_liquor_sales.sales` group by month order by month"
      ],
      "execution_count": 0,
      "outputs": []
    },
    {
      "cell_type": "code",
      "metadata": {
        "id": "K1-Lu_h9M7jy",
        "colab_type": "code",
        "colab": {
          "base_uri": "https://localhost:8080/",
          "height": 408
        },
        "outputId": "ce5b16b6-7993-4d05-a455-7c30dfc4038e"
      },
      "source": [
        "df_dates"
      ],
      "execution_count": 55,
      "outputs": [
        {
          "output_type": "execute_result",
          "data": {
            "text/html": [
              "<div>\n",
              "<style scoped>\n",
              "    .dataframe tbody tr th:only-of-type {\n",
              "        vertical-align: middle;\n",
              "    }\n",
              "\n",
              "    .dataframe tbody tr th {\n",
              "        vertical-align: top;\n",
              "    }\n",
              "\n",
              "    .dataframe thead th {\n",
              "        text-align: right;\n",
              "    }\n",
              "</style>\n",
              "<table border=\"1\" class=\"dataframe\">\n",
              "  <thead>\n",
              "    <tr style=\"text-align: right;\">\n",
              "      <th></th>\n",
              "      <th>bottles_sold</th>\n",
              "      <th>month</th>\n",
              "    </tr>\n",
              "  </thead>\n",
              "  <tbody>\n",
              "    <tr>\n",
              "      <th>0</th>\n",
              "      <td>14584322</td>\n",
              "      <td>01</td>\n",
              "    </tr>\n",
              "    <tr>\n",
              "      <th>1</th>\n",
              "      <td>15090154</td>\n",
              "      <td>02</td>\n",
              "    </tr>\n",
              "    <tr>\n",
              "      <th>2</th>\n",
              "      <td>13768500</td>\n",
              "      <td>03</td>\n",
              "    </tr>\n",
              "    <tr>\n",
              "      <th>3</th>\n",
              "      <td>14604270</td>\n",
              "      <td>04</td>\n",
              "    </tr>\n",
              "    <tr>\n",
              "      <th>4</th>\n",
              "      <td>15826530</td>\n",
              "      <td>05</td>\n",
              "    </tr>\n",
              "    <tr>\n",
              "      <th>5</th>\n",
              "      <td>15829011</td>\n",
              "      <td>06</td>\n",
              "    </tr>\n",
              "    <tr>\n",
              "      <th>6</th>\n",
              "      <td>15024355</td>\n",
              "      <td>07</td>\n",
              "    </tr>\n",
              "    <tr>\n",
              "      <th>7</th>\n",
              "      <td>15378467</td>\n",
              "      <td>08</td>\n",
              "    </tr>\n",
              "    <tr>\n",
              "      <th>8</th>\n",
              "      <td>14202823</td>\n",
              "      <td>09</td>\n",
              "    </tr>\n",
              "    <tr>\n",
              "      <th>9</th>\n",
              "      <td>17936748</td>\n",
              "      <td>10</td>\n",
              "    </tr>\n",
              "    <tr>\n",
              "      <th>10</th>\n",
              "      <td>14711419</td>\n",
              "      <td>11</td>\n",
              "    </tr>\n",
              "    <tr>\n",
              "      <th>11</th>\n",
              "      <td>18070865</td>\n",
              "      <td>12</td>\n",
              "    </tr>\n",
              "  </tbody>\n",
              "</table>\n",
              "</div>"
            ],
            "text/plain": [
              "    bottles_sold month\n",
              "0       14584322    01\n",
              "1       15090154    02\n",
              "2       13768500    03\n",
              "3       14604270    04\n",
              "4       15826530    05\n",
              "5       15829011    06\n",
              "6       15024355    07\n",
              "7       15378467    08\n",
              "8       14202823    09\n",
              "9       17936748    10\n",
              "10      14711419    11\n",
              "11      18070865    12"
            ]
          },
          "metadata": {
            "tags": []
          },
          "execution_count": 55
        }
      ]
    },
    {
      "cell_type": "code",
      "metadata": {
        "id": "xDLnAXsMO1Mu",
        "colab_type": "code",
        "colab": {
          "base_uri": "https://localhost:8080/",
          "height": 295
        },
        "outputId": "81f95941-b554-4ce5-f880-b089940504a5"
      },
      "source": [
        "sns.barplot(x = 'month', y = 'bottles_sold',  data = df_dates, color=\"blue\")\n",
        "plt.xlabel('Month')\n",
        "plt.ylabel('Bottles sold')\n",
        "plt.title(\"Number of bottles sold by month\")\n",
        "plt.show()"
      ],
      "execution_count": 56,
      "outputs": [
        {
          "output_type": "display_data",
          "data": {
            "image/png": "[encoded data removed]",
            "text/plain": [
              "<Figure size 432x288 with 1 Axes>"
            ]
          },
          "metadata": {
            "tags": []
          }
        }
      ]
    },
    {
      "cell_type": "markdown",
      "metadata": {
        "id": "soDVcxKqZGIJ",
        "colab_type": "text"
      },
      "source": [
        "The data shows that the busiest sales happen on October and December, which is surely related to upcoming holidays in these months (at least in December). Other months level of sales is lower without any significant differences."
      ]
    },
    {
      "cell_type": "code",
      "metadata": {
        "id": "b-vm_qgsSasx",
        "colab_type": "code",
        "colab": {}
      },
      "source": [
        "# group by year\n",
        "%%bigquery --project protean-genius-271221 df_dates\n",
        "SELECT sum(bottles_sold) as bottles_sold, FORMAT_DATE('%Y',date) AS year FROM `bigquery-public-data.iowa_liquor_sales.sales` group by year order by year"
      ],
      "execution_count": 0,
      "outputs": []
    },
    {
      "cell_type": "code",
      "metadata": {
        "id": "Ndu2vbGzSelk",
        "colab_type": "code",
        "colab": {
          "base_uri": "https://localhost:8080/",
          "height": 318
        },
        "outputId": "d6d1a457-4708-4649-d0e4-51651cc1cbf6"
      },
      "source": [
        "df_dates"
      ],
      "execution_count": 58,
      "outputs": [
        {
          "output_type": "execute_result",
          "data": {
            "text/html": [
              "<div>\n",
              "<style scoped>\n",
              "    .dataframe tbody tr th:only-of-type {\n",
              "        vertical-align: middle;\n",
              "    }\n",
              "\n",
              "    .dataframe tbody tr th {\n",
              "        vertical-align: top;\n",
              "    }\n",
              "\n",
              "    .dataframe thead th {\n",
              "        text-align: right;\n",
              "    }\n",
              "</style>\n",
              "<table border=\"1\" class=\"dataframe\">\n",
              "  <thead>\n",
              "    <tr style=\"text-align: right;\">\n",
              "      <th></th>\n",
              "      <th>bottles_sold</th>\n",
              "      <th>year</th>\n",
              "    </tr>\n",
              "  </thead>\n",
              "  <tbody>\n",
              "    <tr>\n",
              "      <th>0</th>\n",
              "      <td>19917404</td>\n",
              "      <td>2012</td>\n",
              "    </tr>\n",
              "    <tr>\n",
              "      <th>1</th>\n",
              "      <td>19934692</td>\n",
              "      <td>2013</td>\n",
              "    </tr>\n",
              "    <tr>\n",
              "      <th>2</th>\n",
              "      <td>20666259</td>\n",
              "      <td>2014</td>\n",
              "    </tr>\n",
              "    <tr>\n",
              "      <th>3</th>\n",
              "      <td>21572443</td>\n",
              "      <td>2015</td>\n",
              "    </tr>\n",
              "    <tr>\n",
              "      <th>4</th>\n",
              "      <td>22670318</td>\n",
              "      <td>2016</td>\n",
              "    </tr>\n",
              "    <tr>\n",
              "      <th>5</th>\n",
              "      <td>23990017</td>\n",
              "      <td>2017</td>\n",
              "    </tr>\n",
              "    <tr>\n",
              "      <th>6</th>\n",
              "      <td>25435040</td>\n",
              "      <td>2018</td>\n",
              "    </tr>\n",
              "    <tr>\n",
              "      <th>7</th>\n",
              "      <td>26844339</td>\n",
              "      <td>2019</td>\n",
              "    </tr>\n",
              "    <tr>\n",
              "      <th>8</th>\n",
              "      <td>3996952</td>\n",
              "      <td>2020</td>\n",
              "    </tr>\n",
              "  </tbody>\n",
              "</table>\n",
              "</div>"
            ],
            "text/plain": [
              "   bottles_sold  year\n",
              "0      19917404  2012\n",
              "1      19934692  2013\n",
              "2      20666259  2014\n",
              "3      21572443  2015\n",
              "4      22670318  2016\n",
              "5      23990017  2017\n",
              "6      25435040  2018\n",
              "7      26844339  2019\n",
              "8       3996952  2020"
            ]
          },
          "metadata": {
            "tags": []
          },
          "execution_count": 58
        }
      ]
    },
    {
      "cell_type": "code",
      "metadata": {
        "id": "4i9n8O3wO3YR",
        "colab_type": "code",
        "colab": {
          "base_uri": "https://localhost:8080/",
          "height": 295
        },
        "outputId": "ee9592c9-aefc-42f2-d367-d2dc307eb97d"
      },
      "source": [
        "sns.barplot(x = 'year', y = 'bottles_sold',  data = df_dates, color=\"blue\")\n",
        "plt.xlabel('Year')\n",
        "plt.ylabel('Bottles sold')\n",
        "plt.title(\"Number of bottles sold by year\")\n",
        "plt.show()"
      ],
      "execution_count": 59,
      "outputs": [
        {
          "output_type": "display_data",
          "data": {
            "image/png": "[encoded data removed]",
            "text/plain": [
              "<Figure size 432x288 with 1 Axes>"
            ]
          },
          "metadata": {
            "tags": []
          }
        }
      ]
    },
    {
      "cell_type": "markdown",
      "metadata": {
        "id": "_dz93NUtVlIy",
        "colab_type": "text"
      },
      "source": [
        "[link text](https://)Sales are increasing every year ( for 2020 there is no full data yet)."
      ]
    }
  ]
}